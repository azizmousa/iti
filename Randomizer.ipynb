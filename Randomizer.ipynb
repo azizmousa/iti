{
  "nbformat": 4,
  "nbformat_minor": 0,
  "metadata": {
    "colab": {
      "name": "Randomizer.ipynb",
      "provenance": [],
      "authorship_tag": "ABX9TyOgR7fbxQzrGVJj8ka+QyVt"
    },
    "kernelspec": {
      "name": "python3",
      "display_name": "Python 3"
    },
    "language_info": {
      "name": "python"
    }
  },
  "cells": [
    {
      "cell_type": "code",
      "metadata": {
        "id": "x1z_QyH8uh4y"
      },
      "source": [
        "import random\n",
        " \n",
        "def randomize(mainList, selectionList, maxLength):\n",
        "    retList = [] \n",
        "    randomIndises = random.sample(range(len(selectionList)+1), len(selectionList)+1)\n",
        "    for lst in mainList:\n",
        "        tmp = lst\n",
        "        while len(lst)<6 and len(randomIndises) >0:\n",
        "            tmp.append(randomIndises[0])\n",
        "            del randomIndises[0]\n",
        "        retList.append(tmp)\n",
        "            \n",
        "    return retList"
      ],
      "execution_count": 18,
      "outputs": []
    },
    {
      "cell_type": "code",
      "metadata": {
        "colab": {
          "base_uri": "https://localhost:8080/"
        },
        "id": "LlkneiMH1p_j",
        "outputId": "45d80859-3aa7-4b2e-85f5-30ecd78ca385"
      },
      "source": [
        "mainList = [[], [], [], [], []] \n",
        "selectionList = list(range(1,30))\n",
        " \n",
        "rand = randomize(mainList, selectionList, 6)\n",
        "for team in rand:\n",
        "    print(team)"
      ],
      "execution_count": 24,
      "outputs": [
        {
          "output_type": "stream",
          "text": [
            "[11, 15, 17, 16, 12, 5]\n",
            "[7, 21, 10, 13, 1, 26]\n",
            "[6, 18, 8, 14, 28, 20]\n",
            "[4, 0, 25, 3, 24, 2]\n",
            "[22, 9, 29, 19, 27, 23]\n"
          ],
          "name": "stdout"
        }
      ]
    }
  ]
}